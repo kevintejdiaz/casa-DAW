{
 "cells": [
  {
   "cell_type": "code",
   "execution_count": 2,
   "metadata": {},
   "outputs": [],
   "source": [
    "import pandas as pd"
   ]
  },
  {
   "cell_type": "code",
   "execution_count": 3,
   "metadata": {},
   "outputs": [
    {
     "name": "stderr",
     "output_type": "stream",
     "text": [
      "C:\\Users\\kevin\\AppData\\Local\\Temp\\ipykernel_27508\\2582710430.py:1: DtypeWarning: Columns (42,44) have mixed types. Specify dtype option on import or set low_memory=False.\n",
      "  df1 = pd.read_csv('C:/Users/kevin/Desktop/DAW/2º/M12. Projecte/recursos/actividadeconomica.csv' , delimiter=';')\n"
     ]
    }
   ],
   "source": [
    "df1 = pd.read_csv('C:/Users/kevin/Desktop/DAW/2º/M12. Projecte/recursos/actividadeconomica.csv' , delimiter=';')\n",
    "df2 = pd.read_csv('C:/Users/kevin/Desktop/DAW/2º/M12. Projecte/recursos/locales.csv' , delimiter=';')\n",
    "df3 = pd.read_csv('C:/Users/kevin/Desktop/DAW/2º/M12. Projecte/recursos/terrazas.csv' , delimiter=';')\n"
   ]
  },
  {
   "cell_type": "code",
   "execution_count": 6,
   "metadata": {},
   "outputs": [
    {
     "name": "stdout",
     "output_type": "stream",
     "text": [
      "  id_seccion                                       desc_seccion\n",
      "0          I                                         HOSTELERÍA\n",
      "1          I                                         HOSTELERÍA\n",
      "2          I                                         HOSTELERÍA\n",
      "3          G  COMERCIO AL POR MAYOR Y AL POR MENOR; REPARACI...\n",
      "4          G  COMERCIO AL POR MAYOR Y AL POR MENOR; REPARACI...\n"
     ]
    }
   ],
   "source": [
    "columnas_interes = ['id_seccion', 'desc_seccion']\n",
    "\n",
    "# Mostrar las primeras filas de estas columnas\n",
    "print(df1[columnas_interes].head())"
   ]
  },
  {
   "cell_type": "code",
   "execution_count": 7,
   "metadata": {},
   "outputs": [
    {
     "name": "stdout",
     "output_type": "stream",
     "text": [
      "['JUSTICIA            ' 'PALACIO             ' 'SOL                 '\n",
      " 'CORTES              ' 'EMBAJADORES         ' 'UNIVERSIDAD         '\n",
      " 'ACACIAS             ' 'GAZTAMBIDE          ' 'DELICIAS            '\n",
      " 'IMPERIAL            ' 'PALOS DE LA FRONTERA' 'LEGAZPI             '\n",
      " 'CHOPERA             ' 'ATOCHA              ' 'IBIZA               '\n",
      " 'ESTRELLA            ' 'LOS JERONIMOS       ' 'NIÑO JESUS          '\n",
      " 'ADELFAS             ' 'PACIFICO            ' 'FUENTE DEL BERRO    '\n",
      " 'GOYA                ' 'CASTELLANA          ' 'LISTA               '\n",
      " 'GUINDALERA          ' 'RECOLETOS           ' 'TRAFALGAR           '\n",
      " 'VALLEHERMOSO        ' 'ARAPILES            ' 'RIOS ROSAS          '\n",
      " 'HISPANOAMERICA      ' 'EL VISO             ' 'PROSPERIDAD         '\n",
      " 'NUEVA ESPAÑA        ' 'CIUDAD JARDIN       ' 'CASTILLA            '\n",
      " 'ALMAGRO             ' 'CUATRO CAMINOS      ' 'ALMENARA            '\n",
      " 'VALDEACEDERAS       ' 'BELLAS VISTAS       ' 'EL PILAR            '\n",
      " 'BERRUGUETE          ' 'CASTILLEJOS         ' 'VALVERDE            '\n",
      " 'LA PAZ              ' 'PEÑA GRANDE         ' 'MIRASIERRA          '\n",
      " 'EL PARDO            ' 'COMILLAS            ' 'VISTA ALEGRE        '\n",
      " 'VALDEFUENTES        ' 'ABRANTES            ' 'PUERTA BONITA       '\n",
      " 'PUERTA DEL ANGEL    ' 'AEROPUERTO          ' 'REJAS               '\n",
      " 'PALOMERAS SURESTE   ' 'CASCO H.VICALVARO   ' 'PINAR DEL REY       '\n",
      " 'LOS ROSALES         ' 'CASCO H.VALLECAS    ' 'SANTA EUGENIA       '\n",
      " 'SAN ISIDRO          ' 'QUINTANA            ' 'ARGUELLES           '\n",
      " 'CANILLAS            ' 'COSTILLARES         ' 'COLINA              '\n",
      " 'CIUDAD UNIVERSITARIA' 'LAS AGUILAS         ' 'ALAMEDA DE OSUNA    '\n",
      " 'FONTARRON           ' 'ALMENDRALES         ' 'APOSTOL SANTIAGO    '\n",
      " 'PUEBLO NUEVO        ' 'EL SALVADOR         ' 'ALUCHE              '\n",
      " 'CANILLEJAS          ' 'CASA DE CAMPO       ' 'PRADOLONGO          '\n",
      " 'CAMPAMENTO          ' 'SAN CRISTOBAL       ' 'ORCASITAS           '\n",
      " 'SAN JUAN BAUTISTA   ' 'ENSANCHE DE VALLECAS' 'MARROQUINA          '\n",
      " 'AMPOSTA             ' 'LUCERO              ' 'SAN ANDRES          '\n",
      " 'VENTAS              ' 'LOS ANGELES         ' 'OPAÑEL              '\n",
      " 'SAN DIEGO           ' 'VALDEZARZA          ' 'ARAVACA             '\n",
      " 'PORTAZGO            ' 'CONCEPCION          ' 'VALDEMARIN          '\n",
      " 'BUENAVISTA          ' 'ORCASUR             ' 'ROSAS               '\n",
      " 'VALDERRIVAS' 'VALDEBERNARDO' 'SAN PASCUAL         '\n",
      " 'MOSCARDO            ' 'HELLIN              ' 'SIMANCAS            '\n",
      " 'ARCOS               ' 'PIOVERA             ' 'EL GOLOSO           '\n",
      " 'ZOFIO               ' 'CASCO H.BARAJAS     ' 'TIMON               '\n",
      " 'CORRALEJOS          ' 'VINATEROS           ' 'FUENTELARREINA      '\n",
      " 'NUMANCIA            ' 'EL PLANTIO          ' 'LOS CARMENES        '\n",
      " 'MEDIA LEGUA         ' 'SAN FERMIN          ' 'ENTREVIAS           '\n",
      " 'PALOMERAS BAJAS     ' 'PAVONES             ' 'ATALAYA             '\n",
      " 'BUTARQUE            ' 'PALOMAS             ' 'CUATRO VIENTOS      '\n",
      " 'HORCAJO             ' 'EL CAÑAVERAL']\n"
     ]
    }
   ],
   "source": [
    "print(df2['desc_barrio_local'].unique())"
   ]
  }
 ],
 "metadata": {
  "kernelspec": {
   "display_name": "Python 3",
   "language": "python",
   "name": "python3"
  },
  "language_info": {
   "codemirror_mode": {
    "name": "ipython",
    "version": 3
   },
   "file_extension": ".py",
   "mimetype": "text/x-python",
   "name": "python",
   "nbconvert_exporter": "python",
   "pygments_lexer": "ipython3",
   "version": "3.11.5"
  }
 },
 "nbformat": 4,
 "nbformat_minor": 2
}
